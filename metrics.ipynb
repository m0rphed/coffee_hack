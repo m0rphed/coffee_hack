{
 "cells": [
  {
   "cell_type": "code",
   "execution_count": 1,
   "id": "a5205ac2-a0eb-4848-b772-c6afba1754f7",
   "metadata": {},
   "outputs": [],
   "source": [
    "import pandas as pd\n",
    "import seaborn as sns\n",
    "import matplotlib.pyplot as plt\n",
    "from datetime import datetime\n",
    "import numpy as np\n",
    "\n",
    "from itertools import combinations\n",
    "from collections import Counter"
   ]
  },
  {
   "cell_type": "code",
   "execution_count": 2,
   "id": "12485306-e68f-400a-86d4-b51c4bb42b2b",
   "metadata": {},
   "outputs": [],
   "source": [
    "file_path = './data/hakaton.csv'"
   ]
  },
  {
   "cell_type": "code",
   "execution_count": 3,
   "id": "1c436857-c08b-428e-91d0-f54627cf27f8",
   "metadata": {},
   "outputs": [],
   "source": [
    "#df = pd.read_csv('hakaton.csv',sep=';')"
   ]
  },
  {
   "cell_type": "code",
   "execution_count": 4,
   "id": "e80a7d97-f60d-46fb-8314-07ac5932f7c1",
   "metadata": {},
   "outputs": [],
   "source": [
    "seasons = {'winter': [1,2,12], \n",
    "           'spring': [3,4,5],\n",
    "           'summer': [6,7,8],\n",
    "           'autumn': [9,10,11]}\n",
    "\n",
    "hours = {1: [6,7,8,9,10],\n",
    "         2: [11,12,13,14,15],\n",
    "         3: [16,17,18,19,20],\n",
    "         4: [21,22,23,0,1]}"
   ]
  },
  {
   "cell_type": "code",
   "execution_count": 5,
   "id": "40324cc9-3204-4faa-844d-fcfe232f6a5f",
   "metadata": {},
   "outputs": [],
   "source": [
    "def preprocessing_df(df):\n",
    "    df['create_datetime'] = pd.to_datetime(df['create_datetime'])\n",
    "    df['order_day'] = df['create_datetime'].dt.day\n",
    "    df['order_hour'] = df['create_datetime'].dt.hour\n",
    "    df['order_weekday'] = df['create_datetime'].dt.weekday\n",
    "    df['order_month'] = df['create_datetime'].dt.month\n",
    "    df['order_year'] = df['create_datetime'].dt.year\n",
    "    df['day_of_week_name'] = df['create_datetime'].dt.day_name()\n",
    "    df['order_week'] = df['create_datetime'].dt.isocalendar().week\n",
    "    def categorize_hour(hour):\n",
    "        for category, hour_list in hours.items():\n",
    "            if hour in hour_list:\n",
    "                return category\n",
    "        return None  # на случай, если час не попадает в список\n",
    "\n",
    "    # Создаем новый столбец 'hour_category' с категориями\n",
    "    df['hour_category'] = df['order_hour'].apply(categorize_hour)\n",
    "    return df"
   ]
  },
  {
   "cell_type": "code",
   "execution_count": 6,
   "id": "f4a55795-b99e-4e25-bdae-65501494e0a4",
   "metadata": {},
   "outputs": [],
   "source": [
    "def buy_together(df):\n",
    "    df_grouped = df.groupby(['order_id','customer_id'])['entity_id'].agg(list).reset_index()\n",
    "    df_together = df_grouped[df_grouped['entity_id'].apply(len) >= 0]\n",
    "    return df_together"
   ]
  },
  {
   "cell_type": "code",
   "execution_count": 7,
   "id": "1acca9ca-539a-415f-bf60-9c659e7741f1",
   "metadata": {},
   "outputs": [],
   "source": [
    "def popular_products_of_the_day(df, day_date=None, month_date=None, year_date=None, flag=False):\n",
    "    \"\"\"\n",
    "    Выявление товаров на скидку в течение дня с учетом временного интервала\n",
    "    \"\"\"\n",
    "    if day_date and month_date and year_date:\n",
    "        df = df[(df['order_day'] == day_date) & (df['order_month'] == month_date) & (df['order_year'] == year_date)]\n",
    "\n",
    "    df = df.groupby(['hour_category', 'entity_id'])['hour_category'].size().reset_index(name='count')\n",
    "    df = df.sort_values(by='count', ascending=not flag)\n",
    "    df = df[df['count'] >= 1]\n",
    "    \n",
    "    selected_entities = set()\n",
    "    new_df = pd.DataFrame(columns=df.columns)\n",
    "\n",
    "    for i in range(1, 5):\n",
    "        hour_group = df[(df['hour_category'] == i) & (~df['entity_id'].isin(selected_entities))]\n",
    "        if not hour_group.empty:\n",
    "            median_index = hour_group.iloc[int(np.median(range(len(hour_group))))].name\n",
    "            new_df.loc[len(new_df)] = df.loc[median_index]\n",
    "            selected_entities.add(df.loc[median_index, 'entity_id'])\n",
    "\n",
    "    return new_df"
   ]
  },
  {
   "cell_type": "code",
   "execution_count": 8,
   "id": "082c43af-bf49-4660-b4be-e59dedd5fdd5",
   "metadata": {},
   "outputs": [],
   "source": [
    "def daily_product(df, year=None, month=None, flag=False):\n",
    "    \"\"\"\n",
    "    Группировка по дням недели, возвращение товара дня по неделям (без повтора товаров)\n",
    "    \"\"\"\n",
    "    day_order = ['Monday', 'Tuesday', 'Wednesday', 'Thursday', 'Friday', 'Saturday', 'Sunday']\n",
    "    \n",
    "    if not year or not month:\n",
    "        year = df['order_year'].unique().max()\n",
    "        month = df[df['order_year'] == year]['order_month'].unique().max()\n",
    "\n",
    "    if month == 1: \n",
    "        year -= 1\n",
    "        month = 12\n",
    "\n",
    "    df_group_day_name_entity = df[(df['order_year'] == year) & \n",
    "                                  (df['order_month'] == month)] \\\n",
    "                                  .groupby(['day_of_week_name', 'entity_id']) \\\n",
    "                                  .size().reset_index(name='count')\n",
    "\n",
    "    df_group_day_name_entity = df_group_day_name_entity.sort_values(by='count', ascending=False)\n",
    "    df_group_day_name_entity = df_group_day_name_entity[df_group_day_name_entity['count'] >= 1]\n",
    "    \n",
    "    selected_entities = set()\n",
    "    new_df = pd.DataFrame(columns=df_group_day_name_entity.columns)\n",
    "\n",
    "    for day in day_order:\n",
    "        df_group = df_group_day_name_entity[(df_group_day_name_entity['day_of_week_name'] == day) & (~df_group_day_name_entity['entity_id'].isin(selected_entities))]\n",
    "        if not df_group.empty:\n",
    "            median_index = df_group.iloc[int(np.median(range(len(df_group))))].name\n",
    "            new_df.loc[len(new_df)] = df_group_day_name_entity.loc[median_index]\n",
    "            selected_entities.add(df_group_day_name_entity.loc[median_index, 'entity_id'])\n",
    "\n",
    "    df_group_day_name_entity = df_group_day_name_entity.drop_duplicates(subset='entity_id', keep='first').drop_duplicates(subset='day_of_week_name', keep='first')[:7]\n",
    "    df_group_day_name_entity['day_of_week_name'] = pd.Categorical(df_group_day_name_entity['day_of_week_name'], categories=day_order, ordered=True)\n",
    "    df_group_day_name_entity = df_group_day_name_entity.sort_values('day_of_week_name').reset_index(drop=True)\n",
    "    \n",
    "    return new_df,df_group_day_name_entity"
   ]
  },
  {
   "cell_type": "code",
   "execution_count": 9,
   "id": "43fc2b13-9a63-4bca-926d-fa39906bc8f9",
   "metadata": {},
   "outputs": [],
   "source": [
    "def find_most_frequent_pairs(df,customer_id = None):\n",
    "    \"\"\"\n",
    "    Функция находит наиболее часто покупаемые товары вместе.\n",
    "    \n",
    "    :param df: DataFrame с колонками 'order_id' и 'entity_id' (где entity_id - список товаров)\n",
    "    :return: DataFrame с парами товаров и их частотой\n",
    "    \"\"\"\n",
    "    if customer_id:\n",
    "        find_df = df[df['customer_id'] == customer_id]\n",
    "    else:\n",
    "        find_df = df\n",
    "        \n",
    "    def generate_item_pairs(item_list):\n",
    "        return list(combinations(sorted(item_list), 2))\n",
    "\n",
    "    all_pairs = []\n",
    "    for item_list in find_df['entity_id']:\n",
    "        all_pairs.extend(generate_item_pairs(item_list))\n",
    "        \n",
    "    pair_counts = Counter(all_pairs)\n",
    "    pair_counts_df = pd.DataFrame(pair_counts.items(), columns=['pair', 'count'])\n",
    "    pair_counts_df = pair_counts_df[pair_counts_df['pair'].apply(lambda x: x[0] != x[1])]\n",
    "    pair_counts_df_sorted = pair_counts_df.sort_values(by='count', ascending=False).reset_index(drop=True)\n",
    "    pair_counts_df_sorted = pair_counts_df_sorted[pair_counts_df_sorted['count'] >= 2]\n",
    "    \n",
    "    if len(pair_counts_df_sorted) < 3:\n",
    "        return find_most_frequent_pairs(df) \n",
    "\n",
    "    return pair_counts_df_sorted"
   ]
  },
  {
   "cell_type": "code",
   "execution_count": 10,
   "id": "97633c49-55cb-4882-86af-d2fc0a603e30",
   "metadata": {},
   "outputs": [],
   "source": [
    "def find_frequent_pairs_with_entity(df, entity_id):\n",
    "    \"\"\"\n",
    "    Функция находит наиболее часто встречающиеся пары товаров с указанным entity_id,\n",
    "    и возвращает только вторые товары в этих парах.\n",
    "    \n",
    "    :param df: DataFrame с колонками 'pair' и 'count' (где 'pair' - пара товаров, 'count' - частота)\n",
    "    :param entity_id: Идентификатор товара, с которым ищем часто встречающиеся пары\n",
    "    :return: DataFrame с вторыми товарами в парах и их частотой\n",
    "    \"\"\"\n",
    "    filtered_df = df[df['pair'].apply(lambda x: entity_id in x)].copy()\n",
    "    filtered_df['second_item'] = filtered_df['pair'].apply(lambda x: x[1] if x[0] == entity_id else x[0])\n",
    "    filtered_df_sorted = filtered_df[['second_item', 'count']].sort_values(by='count', ascending=False).reset_index(drop=True)\n",
    "\n",
    "    median_index = np.median(filtered_df_sorted.index)\n",
    "    indices_near_median = filtered_df_sorted.index[(filtered_df_sorted.index >= median_index - 1) & (filtered_df_sorted.index <= median_index + 1)]\n",
    "    filtered_df_sorted = filtered_df_sorted.loc[indices_near_median]\n",
    "    \n",
    "    return filtered_df_sorted[:3].loc[:,'second_item'].values"
   ]
  },
  {
   "cell_type": "code",
   "execution_count": 11,
   "id": "b99a11bb-bf9a-4cdb-a8ab-7f455da7399d",
   "metadata": {},
   "outputs": [],
   "source": [
    "def metrics_client(df,customer_id,entitys_id):\n",
    "    offered_products_set = set()\n",
    "    for i in entitys_id:\n",
    "        offered_products = find_frequent_pairs_with_entity(most_frequent_pairs, i)\n",
    "        offered_products_set.update(offered_products)\n",
    "    offered_products_arr = [product for product in offered_products_set if product not in entitys_id]\n",
    "    return offered_products_arr"
   ]
  },
  {
   "cell_type": "code",
   "execution_count": 12,
   "id": "034a8c77-2709-4c81-95f4-078966ae9b93",
   "metadata": {},
   "outputs": [],
   "source": [
    "#Предобработка, должна выполнятся по загрузке файла\n",
    "df = preprocessing_df(df) # Обработка датафрейма\n",
    "df_buy_together = buy_together(df) # Объединение заказов\n",
    "most_frequent_pairs_customer = find_most_frequent_pairs(df_buy_together, 9172) #Передача id клиента, выдача часто сочетаемых товаров у клиента\n",
    "most_frequent_pairs = find_most_frequent_pairs(df_buy_together) #Часто сочетаемые товары"
   ]
  },
  {
   "cell_type": "markdown",
   "id": "13c0dd09-0f47-4446-97c8-163f3155afcb",
   "metadata": {},
   "source": [
    "- 1-ый параметр - датафрейм с часто сочетаемыми товарами (можно передать часто сочетаемые товары клиента)\n",
    "- 2-ой параметр - id клиента\n",
    "- 3-ий параметр  - корзина покупок"
   ]
  },
  {
   "cell_type": "code",
   "execution_count": 13,
   "id": "990446a3-0039-4d85-aa4a-d17ab20059aa",
   "metadata": {},
   "outputs": [
    {
     "data": {
      "text/plain": [
       "[499, 476, 92]"
      ]
     },
     "execution_count": 13,
     "metadata": {},
     "output_type": "execute_result"
    }
   ],
   "source": [
    "metrics_client(most_frequent_pairs, 9172, [585]) "
   ]
  }
 ],
 "metadata": {
  "kernelspec": {
   "display_name": "data_science",
   "language": "python",
   "name": "myenv"
  },
  "language_info": {
   "codemirror_mode": {
    "name": "ipython",
    "version": 3
   },
   "file_extension": ".py",
   "mimetype": "text/x-python",
   "name": "python",
   "nbconvert_exporter": "python",
   "pygments_lexer": "ipython3",
   "version": "3.10.12"
  }
 },
 "nbformat": 4,
 "nbformat_minor": 5
}
